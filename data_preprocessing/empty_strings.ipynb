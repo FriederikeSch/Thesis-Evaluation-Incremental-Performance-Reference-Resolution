{
 "cells": [
  {
   "cell_type": "markdown",
   "metadata": {},
   "source": [
    "This notebook creates datasets that have no linguustic information."
   ]
  },
  {
   "cell_type": "code",
   "execution_count": 70,
   "metadata": {},
   "outputs": [],
   "source": [
    "import torch\n",
    "\n",
    "\n",
    "split_list=[\"testB\",\"testA\",\"val\",\"test\",\"train\"]\n",
    "dataset_list=[\"unc\",\"unc+\",\"gref_umd\",\"gref\"]\n",
    "attention=[('r1', ['none']),\n",
    " ('r2', ['none']),\n",
    " ('r3', ['none']),\n",
    " ('r4', ['none']),\n",
    " ('r5', ['none']),\n",
    " ('r6', ['none']),\n",
    " ('r7', ['none']),\n",
    " ('r8', ['none'])]"
   ]
  },
  {
   "cell_type": "code",
   "execution_count": 71,
   "metadata": {},
   "outputs": [
    {
     "name": "stdout",
     "output_type": "stream",
     "text": [
      "unctestB\n"
     ]
    },
    {
     "name": "stdout",
     "output_type": "stream",
     "text": [
      "unctestA\n",
      "uncval\n",
      "unctest\n",
      "[Errno 2] No such file or directory: '/home/users/fschreiber/project/ReSC/data/unc/unc_test.pth'\n",
      "unctrain\n",
      "unc+testB\n",
      "unc+testA\n",
      "unc+val\n",
      "unc+test\n",
      "[Errno 2] No such file or directory: '/home/users/fschreiber/project/ReSC/data/unc+/unc+_test.pth'\n",
      "unc+train\n",
      "gref_umdtestB\n",
      "[Errno 2] No such file or directory: '/home/users/fschreiber/project/ReSC/data/gref_umd/gref_umd_testB.pth'\n",
      "gref_umdtestA\n",
      "[Errno 2] No such file or directory: '/home/users/fschreiber/project/ReSC/data/gref_umd/gref_umd_testA.pth'\n",
      "gref_umdval\n",
      "gref_umdtest\n",
      "gref_umdtrain\n",
      "greftestB\n",
      "[Errno 2] No such file or directory: '/home/users/fschreiber/project/ReSC/data/gref/gref_testB.pth'\n",
      "greftestA\n",
      "[Errno 2] No such file or directory: '/home/users/fschreiber/project/ReSC/data/gref/gref_testA.pth'\n",
      "grefval\n",
      "greftest\n",
      "[Errno 2] No such file or directory: '/home/users/fschreiber/project/ReSC/data/gref/gref_test.pth'\n",
      "greftrain\n"
     ]
    }
   ],
   "source": [
    "#load each dataset and split\n",
    "for dataset in dataset_list:\n",
    "    for split in split_list:\n",
    "        try:\n",
    "            print(dataset+split)\n",
    "            #load the complete dataset information\n",
    "            model_list=torch.load(\"/home/users/fschreiber/project/ReSC/data/\"+dataset+\"/\"+dataset+\"_\"+split+\".pth\")\n",
    "            \n",
    "            #make a new dataset containing no sentences or attentions\n",
    "            tup_list=[]\n",
    "            for model in model_list:\n",
    "    \n",
    "                tup=(model[0],model[1],model[2],\"\",attention)\n",
    "                tup_list.append(tup)\n",
    "\n",
    "            torch.save(tup_list, \"/home/users/fschreiber/project/empty_models/\"+dataset+\"/\"+dataset+\"_\"+split+\".pth\")\n",
    "                \n",
    "        except FileNotFoundError as e:\n",
    "            \n",
    "            print(e)\n",
    "        \n",
    "           "
   ]
  }
 ],
 "metadata": {
  "kernelspec": {
   "display_name": "simrec",
   "language": "python",
   "name": "python3"
  },
  "language_info": {
   "codemirror_mode": {
    "name": "ipython",
    "version": 3
   },
   "file_extension": ".py",
   "mimetype": "text/x-python",
   "name": "python",
   "nbconvert_exporter": "python",
   "pygments_lexer": "ipython3",
   "version": "3.7.16"
  }
 },
 "nbformat": 4,
 "nbformat_minor": 2
}
